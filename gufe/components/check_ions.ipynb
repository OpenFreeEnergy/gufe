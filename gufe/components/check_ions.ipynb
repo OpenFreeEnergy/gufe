{
 "cells": [
  {
   "cell_type": "code",
   "execution_count": null,
   "id": "cf71d3c2",
   "metadata": {
    "vscode": {
     "languageId": "plaintext"
    }
   },
   "outputs": [],
   "source": [
    "/Users/atravitz/software/gufe/gufe/components/proteincomponent.py\n"
   ]
  }
 ],
 "metadata": {
  "language_info": {
   "name": "python"
  }
 },
 "nbformat": 4,
 "nbformat_minor": 5
}
