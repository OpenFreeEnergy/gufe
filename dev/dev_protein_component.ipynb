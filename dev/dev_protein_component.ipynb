{
 "cells": [
  {
   "cell_type": "markdown",
   "metadata": {},
   "source": [
    "# Implementing protein components\n",
    "this jnb gives you quick access to the implementation of protein components.\n"
   ]
  },
  {
   "cell_type": "code",
   "execution_count": null,
   "metadata": {},
   "outputs": [],
   "source": [
    "import gufe"
   ]
  },
  {
   "cell_type": "code",
   "execution_count": null,
   "metadata": {},
   "outputs": [],
   "source": [
    "from gufe import ProteinComponent\n",
    "pdb_path= \"./thrombin_protein.pdb\"\n",
    "pdb_path = \"/home/riesbenj/Code/OpenFE/gufe/gufe/tests/data/181l.pdb\"\n",
    "\n",
    "prot = ProteinComponent.from_pdbfile(pdb_path, name=\"thrombin\")\n",
    "prot"
   ]
  },
  {
   "cell_type": "code",
   "execution_count": null,
   "metadata": {},
   "outputs": [],
   "source": [
    "from gufe import ProteinComponent\n",
    "pdb_path = \"/home/riesbenj/Code/OpenFE/gufe/gufe/tests/data/hif2a_protein_openmmClean.pdb\"\n",
    "\n",
    "prot = ProteinComponent.from_pdbfile(pdb_path, name=\"hif2a\")\n",
    "prot"
   ]
  },
  {
   "cell_type": "code",
   "execution_count": null,
   "metadata": {},
   "outputs": [],
   "source": [
    "d = prot.to_dict()"
   ]
  },
  {
   "cell_type": "code",
   "execution_count": null,
   "metadata": {},
   "outputs": [],
   "source": [
    "a  =prot._rdkit.GetProp(\"_residue_index\")"
   ]
  },
  {
   "cell_type": "code",
   "execution_count": null,
   "metadata": {},
   "outputs": [],
   "source": [
    "d['molecules']\n",
    "md = d['molecules']\n",
    "md.keys()"
   ]
  },
  {
   "cell_type": "code",
   "execution_count": null,
   "metadata": {},
   "outputs": [],
   "source": [
    "md['periodic_box_vectors']"
   ]
  },
  {
   "cell_type": "code",
   "execution_count": null,
   "metadata": {},
   "outputs": [],
   "source": [
    "import numpy as np\n",
    "\n",
    "len(np.array(md['_chain_residues']).flatten())"
   ]
  },
  {
   "cell_type": "code",
   "execution_count": null,
   "metadata": {},
   "outputs": [],
   "source": [
    "prot._rdkit.GetProp(\"_charged_res\")"
   ]
  },
  {
   "cell_type": "code",
   "execution_count": null,
   "metadata": {},
   "outputs": [],
   "source": [
    "import json\n",
    "charges = json.loads(prot._rdkit.GetProp(\"_charged_res\").replace(\"'\", \"\\\"\")).values()\n",
    "\n",
    "sum(charges)"
   ]
  },
  {
   "cell_type": "code",
   "execution_count": null,
   "metadata": {},
   "outputs": [],
   "source": []
  },
  {
   "cell_type": "code",
   "execution_count": null,
   "metadata": {},
   "outputs": [],
   "source": [
    "# to_dict:\n",
    "prot_dict = prot.to_dict()"
   ]
  },
  {
   "cell_type": "code",
   "execution_count": null,
   "metadata": {},
   "outputs": [],
   "source": [
    "# from_dict:\n",
    "prot2 = ProteinComponent.from_dict(prot_dict)"
   ]
  },
  {
   "cell_type": "code",
   "execution_count": null,
   "metadata": {},
   "outputs": [],
   "source": [
    "# to_pdb:\n",
    "out_path = \"./tmp_gufe.pdb\"\n",
    "\n",
    "prot2.to_pdbFile(out_path)\n"
   ]
  },
  {
   "cell_type": "code",
   "execution_count": null,
   "metadata": {},
   "outputs": [],
   "source": [
    "prot == prot2"
   ]
  },
  {
   "cell_type": "code",
   "execution_count": null,
   "metadata": {},
   "outputs": [],
   "source": [
    "prot.total_charge"
   ]
  },
  {
   "cell_type": "code",
   "execution_count": null,
   "metadata": {},
   "outputs": [],
   "source": [
    "prot._rdkit"
   ]
  },
  {
   "cell_type": "markdown",
   "metadata": {},
   "source": [
    "## Dev function"
   ]
  },
  {
   "cell_type": "code",
   "execution_count": null,
   "metadata": {},
   "outputs": [],
   "source": [
    "#input:\n",
    "pdb_path= \"./thrombin_protein.pdb\"\n"
   ]
  },
  {
   "cell_type": "code",
   "execution_count": null,
   "metadata": {},
   "outputs": [],
   "source": [
    "#Imports\n",
    "import json, ast\n",
    "from collections import defaultdict\n",
    "\n",
    "from rdkit import Chem\n",
    "from rdkit.Chem.rdchem import Mol, Atom, Conformer, EditableMol, BondType\n",
    "\n",
    "from gufe.components.sub_files.pdbfile import PDBFile #Vendored code - import\n",
    "\n",
    "from rdkit import Chem\n",
    "from rdkit.Chem.rdchem import Mol, Atom, Conformer, EditableMol, BondType\n"
   ]
  },
  {
   "cell_type": "code",
   "execution_count": null,
   "metadata": {},
   "outputs": [],
   "source": [
    "pdb_path = \"/home/riesbenj/Code/OpenFE/gufe/gufe/tests/data/hif2a_protein_openmmClean.pdb\"\n",
    "\n",
    "openmm_PDBFile = PDBFile(pdb_path)\n",
    "name =\"trhomb\""
   ]
  },
  {
   "cell_type": "code",
   "execution_count": null,
   "metadata": {},
   "outputs": [],
   "source": [
    "openmm_PDBFile.writeFile(openmm_PDBFile.topology, openmm_PDBFile.positions, file=open(\"./tmp_file.pdb\", \"w\"))"
   ]
  },
  {
   "cell_type": "code",
   "execution_count": null,
   "metadata": {},
   "outputs": [],
   "source": [
    "bond_types = {  1 : BondType.SINGLE,\n",
    "                2 : BondType.DOUBLE,\n",
    "                3 : BondType.TRIPLE ,\n",
    "               None :  BondType.SINGLE,\n",
    "               }\n",
    "\n",
    "negative_ions = [\"CL\"]\n",
    "positive_ions = [\"NA\", \"MG\"]"
   ]
  },
  {
   "cell_type": "markdown",
   "metadata": {},
   "source": [
    "## OpenMM to rdkit"
   ]
  },
  {
   "cell_type": "code",
   "execution_count": null,
   "metadata": {},
   "outputs": [],
   "source": [
    "periodicTable = Chem.GetPeriodicTable()\n",
    "mol_topology = openmm_PDBFile.topology\n",
    "mol_topology.createDisulfideBonds(openmm_PDBFile.getPositions())\n",
    "\n",
    "rd_mol = Mol()\n",
    "editable_rdmol = EditableMol(rd_mol)\n",
    "\n",
    "# Build Topology\n",
    "_residue_atom_map = defaultdict(list)\n",
    "histidine_resi_atoms = defaultdict(list)\n",
    "\n",
    "# Add Atoms\n",
    "for atom in mol_topology.atoms():\n",
    "    atomID = int(atom.index)\n",
    "    resn = atom.residue.name\n",
    "    resi = int(atom.residue.index)\n",
    "    chaini = int(atom.residue.chain.index)\n",
    "    \n",
    "    \n",
    "    a = Atom(atom.element.atomic_number)\n",
    "    a.SetAtomMapNum(atomID)\n",
    "\n",
    "    a.SetProp(\"name\", atom.name)\n",
    "    a.SetIntProp(\"id\", atomID)\n",
    "\n",
    "    a.SetProp(\"resName\", resn)\n",
    "    a.SetIntProp(\"resId\", resi)\n",
    "    a.SetIntProp(\"chainId\", chaini)\n",
    "    \n",
    "    #For histidine fixes\n",
    "    if(\"HIS\" ==  atom.residue.name):\n",
    "        histidine_resi_atoms[str(resi)+\"_\"+resn].append(atom.name)\n",
    "    _residue_atom_map[str(resi)+\"_\"+resn].append(atomID)\n",
    "    \n",
    "    editable_rdmol.AddAtom(a)\n",
    "\n",
    "# Add Bonds\n",
    "for bond in mol_topology.bonds():\n",
    "    bond_order = bond_types[bond.order]  \n",
    "    editable_rdmol.AddBond(beginAtomIdx=bond.atom1.index, endAtomIdx=bond.atom2.index, order=bond_order)    \n",
    "\n",
    "# Set Positions\n",
    "# WIP: Make multi frame safe\n",
    "rd_mol = editable_rdmol.GetMol()\n",
    "positions = list(map(list, openmm_PDBFile.positions._value))\n",
    "conf = Conformer(0)\n",
    "for atom_id, atom_pos in enumerate(positions):\n",
    "    conf.SetAtomPosition(atom_id, atom_pos) #unit: nm\n",
    "rd_mol.AddConformer(conf)\n",
    "\n",
    "\n",
    "# Add Additionals\n",
    "# Formal Charge\n",
    "atoms = rd_mol.GetAtoms()\n",
    "netcharge = 0\n",
    "for a in atoms:\n",
    "    atomic_num = a.GetAtomicNum()\n",
    "    atom_name = a.GetProp(\"name\")\n",
    "    resn = a.GetProp(\"resName\") \n",
    "\n",
    "    connectivity = sum([int(bond.GetBondType()) for bond in a.GetBonds()]) #\n",
    "    \n",
    "    default_valence = periodicTable.GetDefaultValence(atomic_num)\n",
    "    \n",
    "    # HISTIDINE FIX  resonance\n",
    "    # Due to the resonance of the Ns in His (which are frequently de/protonating in proteins), there can be bond type changes between ND1-CE1-NE2. \n",
    "    if(\"HIS\" == resn and \"N\" in atom_name and len(atom_name)>1):\n",
    "        resi = int(a.GetProp(\"resId\"))\n",
    "        dict_key = str(resi)+\"_\"+resn\n",
    "\n",
    "        histidine_atoms = histidine_resi_atoms[dict_key]\n",
    "        own_prot = atom_name.replace(\"N\", \"H\") in histidine_atoms\n",
    "        other_N = list(filter(lambda x: x.startswith(\"N\") and len(x) > 1 and not atom_name== x, histidine_atoms))[0]\n",
    "        other_prot = other_N.replace(\"N\", \"H\") in histidine_atoms\n",
    "\n",
    "        if(own_prot and not other_prot and connectivity != default_valence):\n",
    "            #change bond-order\n",
    "            bond_change = [bond for bond in a.GetBonds() if(\"CE1\" in (bond.GetBeginAtom().GetProp(\"name\"),\n",
    "                                                                    bond.GetEndAtom().GetProp(\"name\")))][0]\n",
    "            bond_change.SetBondType(bond_types[1])\n",
    "            \n",
    "            alternate_atom = [atomB for atomB in rd_mol.GetAtoms() if(atomB.GetProp(\"resId\") == str(resi) and atomB.GetProp(\"name\") == str(other_N))][0]\n",
    "            bond_change = [bond for bond in alternate_atom.GetBonds() if(\"CE1\" in (bond.GetBeginAtom().GetProp(\"name\"),\n",
    "                                                                                bond.GetEndAtom().GetProp(\"name\")))][0]\n",
    "            bond_change.SetBondType(bond_types[2])  \n",
    "        connectivity = sum([int(bond.GetBondType()) for bond in a.GetBonds()])\n",
    "\n",
    "    ### HISTIDINE FIX DONE\n",
    "    \n",
    "    if(connectivity == 0): #ions:\n",
    "        if(atom_name in positive_ions):\n",
    "            fc = default_valence  #e.g. Sodium ions\n",
    "        elif(atom_name in negative_ions):\n",
    "            fc = -default_valence  #e.g. Chlorine ions\n",
    "        else:\n",
    "            raise ValueError(\"I don't know this Ion! \\t\"+atom_name)  \n",
    "    elif(default_valence > connectivity):\n",
    "        fc = -(default_valence-connectivity) # negative charge\n",
    "    elif(default_valence < connectivity):\n",
    "        fc = +(connectivity-default_valence) # positive charge\n",
    "    else:\n",
    "        fc = 0 # neutral\n",
    "\n",
    "    a.SetFormalCharge(fc)\n",
    "    a.UpdatePropertyCache(strict=True)\n",
    "    \n",
    "    netcharge+=fc\n",
    "\n",
    "# Molecule props\n",
    "# Adding nums:\n",
    "rd_mol.SetProp(\"ofe-name\", name)\n",
    "rd_mol.SetIntProp(\"NumAtoms\", mol_topology.getNumAtoms())\n",
    "rd_mol.SetIntProp(\"NumBonds\", mol_topology.getNumBonds())\n",
    "rd_mol.SetIntProp(\"NumChains\", mol_topology.getNumChains())\n",
    "rd_mol.SetDoubleProp(\"NetCharge\", netcharge)\n",
    "\n",
    "# Chains\n",
    "rd_mol.SetProp(\"chain_names\", str([c.index for c in mol_topology.chains()]))\n",
    "rd_mol.SetProp(\"_chain_resi\", str([[r.index for r in c.residues()] for c in mol_topology.chains()]))\n",
    "\n",
    "# Residues\n",
    "res_seq = \" \".join([r.name for r in mol_topology.residues()])\n",
    "rd_mol.SetProp(\"sequence\", res_seq)\n",
    "rd_mol.SetProp(\"_residue_atom_map\", str(dict(_residue_atom_map)))\n",
    "\n",
    "# Box dimensions\n",
    "pbcVs = list(map(list, mol_topology.getPeriodicBoxVectors()._value)) #unit: nm\n",
    "unitCellDim = list(map(float, mol_topology.getUnitCellDimensions()._value)) #unit: nm\n",
    "rd_mol.SetProp(\"PeriodicBoxVectors\", str(pbcVs))\n",
    "rd_mol.SetProp(\"UnitCellDimensions\", str(unitCellDim))\n",
    "\n",
    "\n",
    "rd_mol.UpdatePropertyCache(strict=True)"
   ]
  },
  {
   "cell_type": "code",
   "execution_count": null,
   "metadata": {},
   "outputs": [],
   "source": [
    "from openmm import unit as  omm_unit\n",
    "pbcVs = mol_topology.getPeriodicBoxVectors()\n",
    "list(map(list, pbcVs.value_in_unit(omm_unit.angstrom)))"
   ]
  },
  {
   "cell_type": "code",
   "execution_count": null,
   "metadata": {},
   "outputs": [],
   "source": [
    "mol_topology.getPeriodicBoxVectors()"
   ]
  },
  {
   "cell_type": "markdown",
   "metadata": {},
   "source": [
    "## Protein Component - Class"
   ]
  },
  {
   "cell_type": "markdown",
   "metadata": {},
   "source": [
    "### Class Implementation - from_pdb"
   ]
  },
  {
   "cell_type": "code",
   "execution_count": null,
   "metadata": {},
   "outputs": [],
   "source": [
    "import ast, json\n",
    "\n",
    "from rdkit import Chem\n",
    "from gufe.components.sub_files.pdbfile import PDBFile\n",
    "from gufe.components.sub_files.pdbstructure import PdbStructure\n",
    "\n",
    "from openmm.unit import nanometers, angstroms, is_quantity, norm, Quantity\n",
    "\n",
    "\n",
    "from gufe import ProteinComponent\n",
    "pdb_path= \"./thrombin_protein.pdb\"\n",
    "\n",
    "prot = ProteinComponent.from_pdbfile(pdb_path, name=\"thrombin\")\n",
    "prot"
   ]
  },
  {
   "cell_type": "code",
   "execution_count": null,
   "metadata": {},
   "outputs": [],
   "source": [
    "prot._rdkit"
   ]
  },
  {
   "cell_type": "markdown",
   "metadata": {},
   "source": [
    "### Class Implementation - dict from and to"
   ]
  },
  {
   "cell_type": "code",
   "execution_count": null,
   "metadata": {},
   "outputs": [],
   "source": [
    "from gufe import ProteinComponent\n",
    "pdb_path= \"./thrombin_protein.pdb\"\n",
    "\n",
    "prot = ProteinComponent.from_pdbfile(pdb_path, name=\"thrombin\")\n",
    "prot"
   ]
  },
  {
   "cell_type": "code",
   "execution_count": null,
   "metadata": {},
   "outputs": [],
   "source": [
    "prot._rdkit.GetProp(\"_chain_residues\")"
   ]
  },
  {
   "cell_type": "code",
   "execution_count": null,
   "metadata": {},
   "outputs": [],
   "source": [
    "dict_prot = prot.to_dict()\n",
    "sec_prot = prot.from_dict(dict_prot)\n",
    "dict_sec_prot = sec_prot.to_dict()"
   ]
  },
  {
   "cell_type": "code",
   "execution_count": null,
   "metadata": {},
   "outputs": [],
   "source": [
    "prot.to_rdkit() == sec_prot.to_rdkit()"
   ]
  },
  {
   "cell_type": "code",
   "execution_count": null,
   "metadata": {},
   "outputs": [],
   "source": [
    "from openmm.app.pdbfile import PDBFile"
   ]
  },
  {
   "cell_type": "code",
   "execution_count": null,
   "metadata": {},
   "outputs": [],
   "source": [
    "molecule_props = {}\n",
    "for prop_key, prop_value in prot._rdkit.GetPropsAsDict().items():\n",
    "    if(prop_key == \"seqeuence\"):\n",
    "        residue_sequence = prot._rdkit.GetProp(\"sequence\").split()\n",
    "        molecule_props[\"sequence\"] = residue_sequence\n",
    "    elif(isinstance(prop_value, str) and prop_value.startswith(\"{\")):\n",
    "        val = json.loads(prot._rdkit.replace(\"'\", \"\\\"\"))\n",
    "        molecule_props[prop_key] = val\n",
    "    elif(isinstance(prop_value, str) and prop_value.startswith(\"[\")):\n",
    "        val = ast.literal_eval(prop_value)\n",
    "        molecule_props[prop_key] = val\n",
    "    else:\n",
    "        molecule_props[prop_key] = prop_value\n",
    "        \n",
    "molecule_props"
   ]
  },
  {
   "cell_type": "code",
   "execution_count": null,
   "metadata": {},
   "outputs": [],
   "source": [
    "for key, value in dict_prot.items():\n",
    "    value2 = dict_sec_prot[key]\n",
    "    print(key, value== value2)\n",
    "    "
   ]
  },
  {
   "cell_type": "markdown",
   "metadata": {},
   "source": [
    "### Class Implementation - to-> OpenMM files/PDB"
   ]
  },
  {
   "cell_type": "code",
   "execution_count": null,
   "metadata": {},
   "outputs": [],
   "source": [
    "from gufe import ProteinComponent\n",
    "pdb_path= \"./thrombin_protein.pdb\"\n",
    "\n",
    "prot = ProteinComponent.from_pdbfile(pdb_path, name=\"thrombin\")\n",
    "prot"
   ]
  },
  {
   "cell_type": "code",
   "execution_count": null,
   "metadata": {},
   "outputs": [],
   "source": [
    "dict_prot['molecules']"
   ]
  },
  {
   "cell_type": "code",
   "execution_count": null,
   "metadata": {},
   "outputs": [],
   "source": [
    "from openmm import Vec3\n",
    "from openmm import app\n",
    "from openmm import unit as omm_unit\n",
    "\n",
    "\n",
    "dict_prot = prot.to_dict()\n",
    "top = app.Topology()\n",
    "\n",
    "\n",
    "# Chains\n",
    "chains = []\n",
    "for chain_name in dict_prot['molecules'][\"chain_names\"]:\n",
    "    c = top.addChain(id=chain_name) \n",
    "    chains.append(c)\n",
    "\n",
    "\n",
    "# Residues:\n",
    "residues ={}\n",
    "for res_lab, resind in sorted(dict_prot['molecules'][\"_residue_index\"].items(), key=lambda x:x[1]):\n",
    "    resi, resn = res_lab.split(\"_\")\n",
    "    \n",
    "    resind = dict_prot['molecules'][\"_residue_index\"][res_lab]\n",
    "    icode = dict_prot['molecules'][\"_residue_icode\"][res_lab]\n",
    "    resi = int(resi)\n",
    "    \n",
    "    part_of = [i for i, v in enumerate(dict_prot['molecules'][\"_chain_residues\"]) if(resi in v)]\n",
    "    chain_id = int([i for i, v in enumerate(dict_prot['molecules'][\"_chain_residues\"]) if(resind in v)][0])\n",
    "    chain =  chains[chain_id]\n",
    "    \n",
    "    #print(resi, resn, chain_id, chain)\n",
    "\n",
    "    r=top.addResidue(name=resn, id=resind, chain=chain,  insertionCode=icode)\n",
    "    residues.update({chain.id+\"_\"+str(resi):r})\n",
    "\n",
    "\n",
    "# Atoms\n",
    "atoms = {}\n",
    "for atom in sorted(dict_prot['atoms'], key=lambda x: x[5][\"id\"]):   \n",
    "    key = atom[5][\"chainName\"]+\"_\"+str(atom[5][\"resId\"])\n",
    "    r= residues[key]\n",
    "    aid = atom[5][\"id\"]\n",
    "    \n",
    "    atom = top.addAtom(name=atom[1],\n",
    "                residue=r,\n",
    "                id=aid,\n",
    "                element= app.Element.getByAtomicNumber(atom[0])\n",
    "                )\n",
    "    \n",
    "    atoms[atom.index]=atom #true?\n",
    "\n",
    "\n",
    "# Bonds\n",
    "for bond in dict_prot['bonds']:\n",
    "    top.addBond(atom1=atoms[bond[0]],\n",
    "                atom2=atoms[bond[1]], \n",
    "                type=bond[2],\n",
    "                order=bond[2])\n",
    "\n",
    "top.setPeriodicBoxVectors(dict_prot['molecules'][\"periodic_box_vectors\"]*omm_unit.angstrom)\n",
    "top.setUnitCellDimensions(dict_prot['molecules']['unit_cell_dimensions']*omm_unit.angstrom)\n"
   ]
  },
  {
   "cell_type": "code",
   "execution_count": null,
   "metadata": {},
   "outputs": [],
   "source": [
    "from gufe.components.sub_files.pdbfile import PDBFile\n",
    "from gufe.molhashing import hashmol, deserialize_numpy, serialize_numpy\n",
    "from openmm import Vec3\n",
    "from openmm import unit as omm_unit\n",
    "\n",
    "out_path = None #\"./tmp_gufe.pdb\"\n",
    "# get pos:\n",
    "np_pos = deserialize_numpy(prot.to_dict()[\"conformers\"][0])\n",
    "openmm_pos = list(map(lambda x: Vec3(*x), np_pos))*omm_unit.angstrom\n",
    "\n",
    "#write file\n",
    "if(isinstance(out_path, str)):\n",
    "    out_file = open(out_path,\"w\")\n",
    "else:\n",
    "    out_file = out_path\n",
    "\n",
    "PDBFile.writeFile(topology=top, positions=openmm_pos, file=out_file)"
   ]
  },
  {
   "cell_type": "code",
   "execution_count": null,
   "metadata": {},
   "outputs": [],
   "source": [
    "from openmm.app.pdbxfile import PDBxFile\n",
    "\n",
    "out_path = None #\"./tmp_gufe.pdb\"\n",
    "# get pos:\n",
    "np_pos = deserialize_numpy(prot.to_dict()[\"conformers\"][0])\n",
    "openmm_pos = list(map(lambda x: Vec3(*x), np_pos))*omm_unit.angstrom\n",
    "\n",
    "#write file\n",
    "if(isinstance(out_path, str)):\n",
    "    out_file = open(out_path,\"w\")\n",
    "else:\n",
    "    out_file = out_path\n",
    "\n",
    "\n",
    "PDBxFile.writeFile(topology=top, positions=openmm_pos, file=out_file)"
   ]
  },
  {
   "cell_type": "markdown",
   "metadata": {},
   "source": [
    "## Build a bond ordered xml"
   ]
  },
  {
   "cell_type": "code",
   "execution_count": null,
   "metadata": {},
   "outputs": [],
   "source": [
    "import xml.etree.ElementTree as etree\n",
    "\n",
    "out_path = \"../gufe/components/sub_files/data/residues.xml\"\n",
    "in_path = \"../gufe/components/sub_files/data/residues_orig.xml\"\n",
    "\n",
    "\n",
    "exception_bond_keys = {\n",
    "            # AminoAcids\n",
    "            ##Backbone\n",
    "            ('C', 'O'): { \"order\": 2, \"resns\": \"all\"},\n",
    "            \n",
    "            ## Carbonyls in R\n",
    "            (\"CZ\", \"NH2\"): { \"order\": 2, \"resns\": (\"ARG\")},\n",
    "            (\"CG\", \"OD1\"):{ \"order\": 2, \"resns\":  (\"ASP\", \"ASN\")},\n",
    "            (\"CD\", \"OE1\"):{ \"order\": 2, \"resns\": (\"GLN\", \"GLU\")},\n",
    "            (\"CD\", \"OE\"):{ \"order\": 2, \"resns\": (\"PCA\")},\n",
    "            \n",
    "            ## Aromatics:\n",
    "            (\"CD2\", \"CG\"):{ \"order\": 2, \"resns\": (\"HIS\")},\n",
    "            (\"CE1\", \"ND1\"):{ \"order\": 2, \"resns\": (\"HIS\")},\n",
    "            \n",
    "            (\"CG\", \"CD1\"):{ \"order\": 2, \"resns\": (\"PHE\", \"TYR\", \"TRP\")},\n",
    "            (\"CE1\", \"CZ\"):{ \"order\": 2, \"resns\": (\"PHE\", \"TYR\")},\n",
    "            (\"CE2\", \"CD2\"):{ \"order\": 2, \"resns\": (\"PHE\", \"TYR\")},\n",
    "            \n",
    "            (\"CD2\", \"CE3\"):{ \"order\": 2, \"resns\": (\"TRP\")},\n",
    "            (\"CE2\", \"CZ2\"):{ \"order\": 2, \"resns\": (\"TRP\")},\n",
    "            (\"CZ3\", \"CH2\"):{ \"order\": 2, \"resns\": (\"TRP\")},\n",
    "\n",
    "            # NucleicAcids\n",
    "            ## Phosphates\n",
    "            (\"OP1\", \"P\"):{ \"order\": 2, \"resns\": (\"U\", \"G\", \"A\", \"C\", \"DT\", \"DG\", \"DC\", \"DA\")},\n",
    "            \n",
    "            ## Pyrimidines: Uracil, Thymin and Cytosin\n",
    "            (\"C2\", \"O2\"):{ \"order\": 2, \"resns\": (\"U\", \"DT\", \"C\", \"DC\")},\n",
    "            (\"C5\", \"C6\"):{ \"order\": 2, \"resns\": (\"U\", \"DT\", \"C\", \"DC\")},\n",
    "            (\"C4\", \"O4\"):{ \"order\": 2, \"resns\": (\"U\", \"DT\")},\n",
    "            (\"C4\", \"N3\"):{ \"order\": 2, \"resns\": (\"C\", \"DC\")},\n",
    "\n",
    "            ## Purines: Guanine, Adenine\n",
    "            (\"C2\", \"N3\"):{ \"order\": 2, \"resns\": (\"G\", \"DG\", \"A\", \"DA\")},\n",
    "            (\"C4\", \"C5\"):{ \"order\": 2, \"resns\": (\"G\", \"DG\", \"A\", \"DA\")},\n",
    "            (\"N7\", \"C8\"):{ \"order\": 2, \"resns\": (\"G\", \"DG\", \"A\", \"DA\")},\n",
    "            (\"C6\", \"O6\"):{ \"order\": 2, \"resns\": (\"G\", \"DG\")},\n",
    "            (\"C6\", \"N1\"):{ \"order\": 2, \"resns\": (\"A\", \"DA\")},            \n",
    "             }\n",
    "#sort keys :\n",
    "exception_bond_keys = {tuple(sorted(list(key))): value for key, value in exception_bond_keys.items()}\n",
    "#print(exception_bond_keys)\n",
    "\n",
    "\n",
    "tree = etree.parse(in_path)\n",
    "\n",
    "for residue in tree.getroot().findall('Residue'):\n",
    "    resn = residue.get(\"name\")\n",
    "    for bond in residue.findall(\"Bond\"):\n",
    "        c1 = bond.get(\"from\")\n",
    "        c2 = bond.get(\"to\")\n",
    "        bond_atoms=tuple(sorted([c1, c2]))\n",
    "        if(bond_atoms in exception_bond_keys and (exception_bond_keys[bond_atoms][\"resns\"] == \"all\" or resn in exception_bond_keys[bond_atoms][\"resns\"])):\n",
    "            bond.set(\"order\", str(exception_bond_keys[bond_atoms][\"order\"]))\n",
    "        else:\n",
    "            bond.set(\"order\", str(1))\n",
    "        #if(resn == \"PHE\"): print(bond_atoms, bond.get(\"order\"))\n",
    "\n",
    "tree.write(out_path)"
   ]
  },
  {
   "cell_type": "code",
   "execution_count": null,
   "metadata": {},
   "outputs": [],
   "source": []
  },
  {
   "cell_type": "code",
   "execution_count": null,
   "metadata": {},
   "outputs": [],
   "source": [
    "from gufe import ProteinComponent\n",
    "\n",
    "import importlib.resources\n",
    "import pytest\n",
    "from rdkit import Chem\n",
    "from rdkit.Chem import AllChem\n",
    "\n",
    "import gufe\n",
    "\n",
    "with importlib.resources.path('gufe.tests.data', '181l.pdb') as f:\n",
    "    pdb_path = str(f)\n",
    "    p = ProteinComponent.from_pdbfile(pdb_path, name='Steve')"
   ]
  },
  {
   "cell_type": "code",
   "execution_count": null,
   "metadata": {},
   "outputs": [],
   "source": [
    "p."
   ]
  },
  {
   "cell_type": "code",
   "execution_count": null,
   "metadata": {},
   "outputs": [],
   "source": []
  }
 ],
 "metadata": {
  "interpreter": {
   "hash": "21fbee5a9ea735821292df23ad42d02bacb45339233a33145d240193711cc6b5"
  },
  "kernelspec": {
   "display_name": "Python 3.9.12 ('openfe')",
   "language": "python",
   "name": "python3"
  },
  "language_info": {
   "codemirror_mode": {
    "name": "ipython",
    "version": 3
   },
   "file_extension": ".py",
   "mimetype": "text/x-python",
   "name": "python",
   "nbconvert_exporter": "python",
   "pygments_lexer": "ipython3",
   "version": "3.9.13"
  },
  "orig_nbformat": 4
 },
 "nbformat": 4,
 "nbformat_minor": 2
}
