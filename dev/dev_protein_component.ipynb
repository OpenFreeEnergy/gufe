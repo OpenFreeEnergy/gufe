{
 "cells": [
  {
   "cell_type": "markdown",
   "metadata": {},
   "source": [
    "# Implementing protein components\n",
    "this jnb gives you quick access to the implementation of protein components.\n"
   ]
  },
  {
   "cell_type": "code",
   "execution_count": null,
   "metadata": {},
   "outputs": [],
   "source": [
    "import gufe"
   ]
  },
  {
   "cell_type": "markdown",
   "metadata": {},
   "source": [
    "## Dev function"
   ]
  },
  {
   "cell_type": "code",
   "execution_count": null,
   "metadata": {},
   "outputs": [],
   "source": [
    "#input:\n",
    "pdb_path= \"./thrombin_protein.pdb\"\n"
   ]
  },
  {
   "cell_type": "code",
   "execution_count": null,
   "metadata": {},
   "outputs": [],
   "source": [
    "#Imports\n",
    "from gufe.components.sub_files.pdbfile import PDBFile #Vendored code - import\n",
    "\n",
    "from rdkit import Chem\n",
    "from rdkit.Chem.rdchem import Mol, Atom, Conformer, EditableMol, BondType\n"
   ]
  },
  {
   "cell_type": "code",
   "execution_count": null,
   "metadata": {},
   "outputs": [],
   "source": [
    "openmm_PDBFile = PDBFile(pdb_path)"
   ]
  },
  {
   "cell_type": "code",
   "execution_count": null,
   "metadata": {},
   "outputs": [],
   "source": [
    "bond_types = {  1 : BondType.SINGLE,\n",
    "                2 : BondType.DOUBLE,\n",
    "                3 : BondType.TRIPLE ,\n",
    "               None :  BondType.SINGLE,\n",
    "               }\n",
    "\n",
    "negative_ions = [\"CL\"]\n",
    "positive_ions = [\"NA\", \"MG\"]"
   ]
  },
  {
   "cell_type": "code",
   "execution_count": null,
   "metadata": {},
   "outputs": [],
   "source": [
    "            \n",
    "periodicTable = Chem.GetPeriodicTable()\n",
    "mol_topology = openmm_PDBFile.topology\n",
    "\n",
    "rd_mol = Mol()\n",
    "editable_rdmol = EditableMol(rd_mol)\n",
    "\n",
    "# Build Topology\n",
    "histidine_resi_atoms = {}\n",
    "# Add Atoms\n",
    "for atom in mol_topology.atoms():\n",
    "    atomID_orig = int(atom.index)\n",
    "    a = Atom(atom.element.atomic_number)\n",
    "    a.SetAtomMapNum(atomID_orig)\n",
    "\n",
    "    a.SetProp(\"name\", atom.name)\n",
    "    a.SetIntProp(\"id\", atomID_orig)\n",
    "\n",
    "    a.SetProp(\"resName\", atom.residue.name)\n",
    "    a.SetIntProp(\"resId\", int(atom.residue.index))\n",
    "\n",
    "    if(\"HIS\" ==  atom.residue.name):\n",
    "        if(int(atom.residue.index) in histidine_resi_atoms):\n",
    "            histidine_resi_atoms[int(atom.residue.index)].append(atom.name)\n",
    "        else:\n",
    "            histidine_resi_atoms[int(atom.residue.index)] = [atom.name]\n",
    "        \n",
    "    editable_rdmol.AddAtom(a)\n",
    "\n",
    "# Add Bonds\n",
    "for bond in mol_topology.bonds():\n",
    "    bond_order = bond_types[bond.order]  \n",
    "    editable_rdmol.AddBond(beginAtomIdx=bond.atom1.index, endAtomIdx=bond.atom2.index, order=bond_order)    \n",
    "\n",
    "# Set Positions\n",
    "rd_mol = editable_rdmol.GetMol()\n",
    "positions = list(map(list, openmm_PDBFile.positions._value))\n",
    "conf = Conformer(0)\n",
    "for atom_id, atom_pos in enumerate(positions):\n",
    "    conf.SetAtomPosition(atom_id, atom_pos) #unit: nm\n",
    "rd_mol.AddConformer(conf)\n",
    "\n",
    "# Molecule props\n",
    "# Adding nums:\n",
    "rd_mol.SetIntProp(\"NumAtoms\", mol_topology.getNumAtoms())\n",
    "rd_mol.SetIntProp(\"NumBonds\", mol_topology.getNumBonds())\n",
    "rd_mol.SetIntProp(\"NumChains\", mol_topology.getNumChains())\n",
    "\n",
    "# dimensions\n",
    "pbcVs = list(map(list, mol_topology.getPeriodicBoxVectors()._value)) #unit: nm\n",
    "unitCellDim = list(map(float, mol_topology.getUnitCellDimensions()._value)) #unit: nm\n",
    "rd_mol.SetProp(\"PeriodicBoxVectors\", str(pbcVs))\n",
    "rd_mol.SetProp(\"UnitCellDimensions\", str(unitCellDim))\n",
    "\n",
    "# Sequence Settings\n",
    "residue_names = [r.name for r in mol_topology.residues()]\n",
    "res_seq = \" \".join(residue_names) \n",
    "rd_mol.SetProp(\"sequence\", res_seq)\n",
    "\n",
    "# Chains\n",
    "rd_mol.SetProp(\"chain_names\", str([c.index for c in mol_topology.chains()]))\n",
    "rd_mol.SetProp(\"chain_resi\", str([[r.index for r in c.residues()] for c in mol_topology.chains()]))\n",
    "\n",
    "\n",
    "# Add Additionals\n",
    "# Formal Charge\n",
    "atoms = rd_mol.GetAtoms()\n",
    "netcharge = 0\n",
    "for a in atoms:\n",
    "    atomic_num = a.GetAtomicNum()\n",
    "    atom_name = a.GetProp(\"name\")\n",
    "\n",
    "    connectivity = sum([int(bond.GetBondType()) for bond in a.GetBonds()]) #\n",
    "    \n",
    "    default_valence = periodicTable.GetDefaultValence(atomic_num)\n",
    "    \n",
    "    # HISTIDINE FIX  resonance\n",
    "    # Due to the resonance of the Ns in His (which are frequently de/protonating in proteins), there can be bond type changes between ND1-CE1-NE2. \n",
    "    if(\"HIS\" == a.GetProp(\"resName\") and \"N\" in a.GetProp(\"name\") and len(a.GetProp(\"name\"))>1):\n",
    "        resi = int(a.GetProp(\"resId\"))\n",
    "\n",
    "        histidine_atoms = histidine_resi_atoms[resi]\n",
    "        own_prot = a.GetProp(\"name\").replace(\"N\", \"H\") in histidine_atoms\n",
    "        other_N = list(filter(lambda x: x.startswith(\"N\") and len(x) > 1 and not atom_name== x, histidine_atoms))[0]\n",
    "        other_prot = other_N.replace(\"N\", \"H\") in histidine_atoms\n",
    "\n",
    "        if(own_prot and not other_prot and connectivity != default_valence):\n",
    "            #change bond-order\n",
    "            bond_change = [bond for bond in a.GetBonds() if(\"CE1\" in (bond.GetBeginAtom().GetProp(\"name\"),\n",
    "                                                                      bond.GetEndAtom().GetProp(\"name\")))][0]\n",
    "            bond_change.SetBondType(bond_types[1])\n",
    "            \n",
    "            alternate_atom = [a for a in rd_mol.GetAtoms() if(a.GetProp(\"resId\") == str(resi) and a.GetProp(\"name\") == str(other_N))][0]\n",
    "            bond_change = [bond for bond in alternate_atom.GetBonds() if(\"CE1\" in (bond.GetBeginAtom().GetProp(\"name\"),\n",
    "                                                                                   bond.GetEndAtom().GetProp(\"name\")))][0]\n",
    "            bond_change.SetBondType(bond_types[2])  \n",
    "        connectivity = sum([int(bond.GetBondType()) for bond in a.GetBonds()])\n",
    "\n",
    "    ### HISTIDINE FIX DONE\n",
    "    \n",
    "    if(connectivity == 0): #ions:\n",
    "        if(atom_name in positive_ions):\n",
    "            fc = default_valence  #e.g. Sodium ions\n",
    "        elif(atom_name in negative_ions):\n",
    "            fc = -default_valence  #e.g. Chlorine ions\n",
    "        else:\n",
    "            raise ValueError(\"I don't know this Ion! \\t\"+atom_name)     \n",
    "    elif(default_valence > connectivity):\n",
    "        fc = -(default_valence-connectivity) # negative charge\n",
    "    elif(default_valence < connectivity):\n",
    "        fc = +(connectivity-default_valence) # positive charge\n",
    "    else:\n",
    "        fc = 0 # neutral\n",
    "        \n",
    "    a.SetFormalCharge(fc)\n",
    "    a.UpdatePropertyCache(strict=True)\n",
    "       \n",
    "\n",
    "    if(False and fc!=0): #Os => atomic_num==8; Ns => atomic_num==7; Na => atomic_num == 11\n",
    "        print(a.GetProp(\"resName\"), a.GetProp(\"resId\"), \n",
    "              a.GetProp(\"name\"), a.GetIdx(),\n",
    "              fc, connectivity, default_valence)\n",
    "\n",
    "    netcharge+=fc\n",
    "    \n",
    "rd_mol.SetDoubleProp(\"NetCharge\", netcharge)\n",
    "rd_mol.UpdatePropertyCache(strict=True)"
   ]
  },
  {
   "cell_type": "code",
   "execution_count": null,
   "metadata": {},
   "outputs": [],
   "source": [
    "rd_mol"
   ]
  },
  {
   "cell_type": "markdown",
   "metadata": {},
   "source": [
    "## Test"
   ]
  },
  {
   "cell_type": "code",
   "execution_count": null,
   "metadata": {},
   "outputs": [],
   "source": [
    "#WIP"
   ]
  },
  {
   "cell_type": "markdown",
   "metadata": {},
   "source": [
    "## Class Implementation"
   ]
  },
  {
   "cell_type": "code",
   "execution_count": 1,
   "metadata": {},
   "outputs": [],
   "source": [
    "from gufe import ProteinComponent\n",
    "pdb_path= \"./thrombin_protein.pdb\"\n",
    "\n",
    "prot = ProteinComponent.from_pdbfile(pdb_path, name=\"thrombin\")\n",
    "prot._rdkit"
   ]
  },
  {
   "cell_type": "code",
   "execution_count": null,
   "metadata": {},
   "outputs": [],
   "source": [
    "out_pdb_path= \"./thrombin_protein_new.pdb\"\n",
    "\n",
    "prot.to_pdb(out_pdb_path)"
   ]
  },
  {
   "cell_type": "markdown",
   "metadata": {},
   "source": [
    "## Build a bond ordered xml"
   ]
  },
  {
   "cell_type": "code",
   "execution_count": null,
   "metadata": {},
   "outputs": [],
   "source": [
    "import xml.etree.ElementTree as etree\n",
    "\n",
    "out_path = \"../gufe/components/sub_files/data/residues.xml\"\n",
    "in_path = \"../gufe/components/sub_files/data/residues_orig.xml\"\n",
    "\n",
    "\n",
    "exception_bond_keys = {\n",
    "            # AminoAcids\n",
    "            ##Backbone\n",
    "            ('C', 'O'): { \"order\": 2, \"resns\": \"all\"},\n",
    "            \n",
    "            ## Carbonyls in R\n",
    "            (\"CZ\", \"NH2\"): { \"order\": 2, \"resns\": (\"ARG\")},\n",
    "            (\"CG\", \"OD1\"):{ \"order\": 2, \"resns\":  (\"ASP\", \"ASN\")},\n",
    "            (\"CD\", \"OE1\"):{ \"order\": 2, \"resns\": (\"GLN\", \"GLU\")},\n",
    "            (\"CD\", \"OE\"):{ \"order\": 2, \"resns\": (\"PCA\")},\n",
    "            \n",
    "            ## Aromatics:\n",
    "            (\"CD2\", \"CG\"):{ \"order\": 2, \"resns\": (\"HIS\")},\n",
    "            (\"CE1\", \"ND1\"):{ \"order\": 2, \"resns\": (\"HIS\")},\n",
    "            \n",
    "            (\"CG\", \"CD1\"):{ \"order\": 2, \"resns\": (\"PHE\", \"TYR\", \"TRP\")},\n",
    "            (\"CE1\", \"CZ\"):{ \"order\": 2, \"resns\": (\"PHE\", \"TYR\")},\n",
    "            (\"CE2\", \"CD2\"):{ \"order\": 2, \"resns\": (\"PHE\", \"TYR\")},\n",
    "            \n",
    "            (\"CD2\", \"CE3\"):{ \"order\": 2, \"resns\": (\"TRP\")},\n",
    "            (\"CE2\", \"CZ2\"):{ \"order\": 2, \"resns\": (\"TRP\")},\n",
    "            (\"CZ3\", \"CH2\"):{ \"order\": 2, \"resns\": (\"TRP\")},\n",
    "\n",
    "            # NucleicAcids\n",
    "            ## Phosphates\n",
    "            (\"OP1\", \"P\"):{ \"order\": 2, \"resns\": (\"U\", \"G\", \"A\", \"C\", \"DT\", \"DG\", \"DC\", \"DA\")},\n",
    "            \n",
    "            ## Pyrimidines: Uracil, Thymin and Cytosin\n",
    "            (\"C2\", \"O2\"):{ \"order\": 2, \"resns\": (\"U\", \"DT\", \"C\", \"DC\")},\n",
    "            (\"C5\", \"C6\"):{ \"order\": 2, \"resns\": (\"U\", \"DT\", \"C\", \"DC\")},\n",
    "            (\"C4\", \"O4\"):{ \"order\": 2, \"resns\": (\"U\", \"DT\")},\n",
    "            (\"C4\", \"N3\"):{ \"order\": 2, \"resns\": (\"C\", \"DC\")},\n",
    "\n",
    "            ## Purines: Guanine, Adenine\n",
    "            (\"C2\", \"N3\"):{ \"order\": 2, \"resns\": (\"G\", \"DG\", \"A\", \"DA\")},\n",
    "            (\"C4\", \"C5\"):{ \"order\": 2, \"resns\": (\"G\", \"DG\", \"A\", \"DA\")},\n",
    "            (\"N7\", \"C8\"):{ \"order\": 2, \"resns\": (\"G\", \"DG\", \"A\", \"DA\")},\n",
    "            (\"C6\", \"O6\"):{ \"order\": 2, \"resns\": (\"G\", \"DG\")},\n",
    "            (\"C6\", \"N1\"):{ \"order\": 2, \"resns\": (\"A\", \"DA\")},            \n",
    "             }\n",
    "#sort keys :\n",
    "exception_bond_keys = {tuple(sorted(list(key))): value for key, value in exception_bond_keys.items()}\n",
    "#print(exception_bond_keys)\n",
    "\n",
    "\n",
    "tree = etree.parse(in_path)\n",
    "\n",
    "for residue in tree.getroot().findall('Residue'):\n",
    "    resn = residue.get(\"name\")\n",
    "    for bond in residue.findall(\"Bond\"):\n",
    "        c1 = bond.get(\"from\")\n",
    "        c2 = bond.get(\"to\")\n",
    "        bond_atoms=tuple(sorted([c1, c2]))\n",
    "        if(bond_atoms in exception_bond_keys and (exception_bond_keys[bond_atoms][\"resns\"] == \"all\" or resn in exception_bond_keys[bond_atoms][\"resns\"])):\n",
    "            bond.set(\"order\", str(exception_bond_keys[bond_atoms][\"order\"]))\n",
    "        else:\n",
    "            bond.set(\"order\", str(1))\n",
    "        #if(resn == \"PHE\"): print(bond_atoms, bond.get(\"order\"))\n",
    "\n",
    "tree.write(out_path)"
   ]
  },
  {
   "cell_type": "code",
   "execution_count": null,
   "metadata": {},
   "outputs": [],
   "source": []
  }
 ],
 "metadata": {
  "interpreter": {
   "hash": "21fbee5a9ea735821292df23ad42d02bacb45339233a33145d240193711cc6b5"
  },
  "kernelspec": {
   "display_name": "Python 3.9.12 ('openfe')",
   "language": "python",
   "name": "python3"
  },
  "language_info": {
   "codemirror_mode": {
    "name": "ipython",
    "version": 3
   },
   "file_extension": ".py",
   "mimetype": "text/x-python",
   "name": "python",
   "nbconvert_exporter": "python",
   "pygments_lexer": "ipython3",
   "version": "3.9.13"
  },
  "orig_nbformat": 4
 },
 "nbformat": 4,
 "nbformat_minor": 2
}
