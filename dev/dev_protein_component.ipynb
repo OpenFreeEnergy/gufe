{
 "cells": [
  {
   "cell_type": "markdown",
   "metadata": {},
   "source": [
    "# Implementing protein components\n",
    "this jnb gives you quick access to the implementation of protein components.\n"
   ]
  },
  {
   "cell_type": "code",
   "execution_count": null,
   "metadata": {},
   "outputs": [],
   "source": [
    "import gufe"
   ]
  },
  {
   "cell_type": "markdown",
   "metadata": {},
   "source": [
    "## Dev function"
   ]
  },
  {
   "cell_type": "code",
   "execution_count": null,
   "metadata": {},
   "outputs": [],
   "source": [
    "#input:\n",
    "pdb_path= \"./thrombin_protein.pdb\"\n"
   ]
  },
  {
   "cell_type": "code",
   "execution_count": null,
   "metadata": {},
   "outputs": [],
   "source": [
    "#Imports\n",
    "import json, ast\n",
    "from collections import defaultdict\n",
    "\n",
    "from rdkit import Chem\n",
    "from rdkit.Chem.rdchem import Mol, Atom, Conformer, EditableMol, BondType\n",
    "\n",
    "from gufe.components.sub_files.pdbfile import PDBFile #Vendored code - import\n",
    "\n",
    "from rdkit import Chem\n",
    "from rdkit.Chem.rdchem import Mol, Atom, Conformer, EditableMol, BondType\n"
   ]
  },
  {
   "cell_type": "code",
   "execution_count": null,
   "metadata": {},
   "outputs": [],
   "source": [
    "openmm_PDBFile = PDBFile(pdb_path)\n",
    "name =\"trhomb\""
   ]
  },
  {
   "cell_type": "code",
   "execution_count": null,
   "metadata": {},
   "outputs": [],
   "source": [
    "bond_types = {  1 : BondType.SINGLE,\n",
    "                2 : BondType.DOUBLE,\n",
    "                3 : BondType.TRIPLE ,\n",
    "               None :  BondType.SINGLE,\n",
    "               }\n",
    "\n",
    "negative_ions = [\"CL\"]\n",
    "positive_ions = [\"NA\", \"MG\"]"
   ]
  },
  {
   "cell_type": "markdown",
   "metadata": {},
   "source": [
    "## OpenMM to rdkit"
   ]
  },
  {
   "cell_type": "code",
   "execution_count": null,
   "metadata": {},
   "outputs": [],
   "source": [
    "periodicTable = Chem.GetPeriodicTable()\n",
    "mol_topology = openmm_PDBFile.topology\n",
    "\n",
    "rd_mol = Mol()\n",
    "editable_rdmol = EditableMol(rd_mol)\n",
    "\n",
    "# Build Topology\n",
    "_residue_atom_map = defaultdict(list)\n",
    "histidine_resi_atoms = defaultdict(list)\n",
    "\n",
    "# Add Atoms\n",
    "for atom in mol_topology.atoms():\n",
    "    atomID = int(atom.index)\n",
    "    resn = atom.residue.name\n",
    "    resi = int(atom.residue.index)\n",
    "    chaini = int(atom.residue.chain.index)\n",
    "    \n",
    "    \n",
    "    a = Atom(atom.element.atomic_number)\n",
    "    a.SetAtomMapNum(atomID)\n",
    "\n",
    "    a.SetProp(\"name\", atom.name)\n",
    "    a.SetIntProp(\"id\", atomID)\n",
    "\n",
    "    a.SetProp(\"resName\", resn)\n",
    "    a.SetIntProp(\"resId\", resi)\n",
    "    a.SetIntProp(\"chainId\", chaini)\n",
    "    \n",
    "    #For histidine fixes\n",
    "    if(\"HIS\" ==  atom.residue.name):\n",
    "        histidine_resi_atoms[str(resi)+\"_\"+resn].append(atom.name)\n",
    "    _residue_atom_map[str(resi)+\"_\"+resn].append(atomID)\n",
    "    \n",
    "    editable_rdmol.AddAtom(a)\n",
    "\n",
    "# Add Bonds\n",
    "for bond in mol_topology.bonds():\n",
    "    bond_order = bond_types[bond.order]  \n",
    "    editable_rdmol.AddBond(beginAtomIdx=bond.atom1.index, endAtomIdx=bond.atom2.index, order=bond_order)    \n",
    "\n",
    "# Set Positions\n",
    "# WIP: Make multi frame safe\n",
    "rd_mol = editable_rdmol.GetMol()\n",
    "positions = list(map(list, openmm_PDBFile.positions._value))\n",
    "conf = Conformer(0)\n",
    "for atom_id, atom_pos in enumerate(positions):\n",
    "    conf.SetAtomPosition(atom_id, atom_pos) #unit: nm\n",
    "rd_mol.AddConformer(conf)\n",
    "\n",
    "\n",
    "# Add Additionals\n",
    "# Formal Charge\n",
    "atoms = rd_mol.GetAtoms()\n",
    "netcharge = 0\n",
    "for a in atoms:\n",
    "    atomic_num = a.GetAtomicNum()\n",
    "    atom_name = a.GetProp(\"name\")\n",
    "    resn = a.GetProp(\"resName\") \n",
    "\n",
    "    connectivity = sum([int(bond.GetBondType()) for bond in a.GetBonds()]) #\n",
    "    \n",
    "    default_valence = periodicTable.GetDefaultValence(atomic_num)\n",
    "    \n",
    "    # HISTIDINE FIX  resonance\n",
    "    # Due to the resonance of the Ns in His (which are frequently de/protonating in proteins), there can be bond type changes between ND1-CE1-NE2. \n",
    "    if(\"HIS\" == resn and \"N\" in atom_name and len(atom_name)>1):\n",
    "        resi = int(a.GetProp(\"resId\"))\n",
    "        dict_key = str(resi)+\"_\"+resn\n",
    "\n",
    "        histidine_atoms = histidine_resi_atoms[dict_key]\n",
    "        own_prot = atom_name.replace(\"N\", \"H\") in histidine_atoms\n",
    "        other_N = list(filter(lambda x: x.startswith(\"N\") and len(x) > 1 and not atom_name== x, histidine_atoms))[0]\n",
    "        other_prot = other_N.replace(\"N\", \"H\") in histidine_atoms\n",
    "\n",
    "        if(own_prot and not other_prot and connectivity != default_valence):\n",
    "            #change bond-order\n",
    "            bond_change = [bond for bond in a.GetBonds() if(\"CE1\" in (bond.GetBeginAtom().GetProp(\"name\"),\n",
    "                                                                    bond.GetEndAtom().GetProp(\"name\")))][0]\n",
    "            bond_change.SetBondType(bond_types[1])\n",
    "            \n",
    "            alternate_atom = [atomB for atomB in rd_mol.GetAtoms() if(atomB.GetProp(\"resId\") == str(resi) and atomB.GetProp(\"name\") == str(other_N))][0]\n",
    "            bond_change = [bond for bond in alternate_atom.GetBonds() if(\"CE1\" in (bond.GetBeginAtom().GetProp(\"name\"),\n",
    "                                                                                bond.GetEndAtom().GetProp(\"name\")))][0]\n",
    "            bond_change.SetBondType(bond_types[2])  \n",
    "        connectivity = sum([int(bond.GetBondType()) for bond in a.GetBonds()])\n",
    "\n",
    "    ### HISTIDINE FIX DONE\n",
    "    \n",
    "    if(connectivity == 0): #ions:\n",
    "        if(atom_name in positive_ions):\n",
    "            fc = default_valence  #e.g. Sodium ions\n",
    "        elif(atom_name in negative_ions):\n",
    "            fc = -default_valence  #e.g. Chlorine ions\n",
    "        else:\n",
    "            raise ValueError(\"I don't know this Ion! \\t\"+atom_name)  \n",
    "    elif(default_valence > connectivity):\n",
    "        fc = -(default_valence-connectivity) # negative charge\n",
    "    elif(default_valence < connectivity):\n",
    "        fc = +(connectivity-default_valence) # positive charge\n",
    "    else:\n",
    "        fc = 0 # neutral\n",
    "\n",
    "    a.SetFormalCharge(fc)\n",
    "    a.UpdatePropertyCache(strict=True)\n",
    "    \n",
    "    netcharge+=fc\n",
    "\n",
    "# Molecule props\n",
    "# Adding nums:\n",
    "rd_mol.SetProp(\"ofe-name\", name)\n",
    "rd_mol.SetIntProp(\"NumAtoms\", mol_topology.getNumAtoms())\n",
    "rd_mol.SetIntProp(\"NumBonds\", mol_topology.getNumBonds())\n",
    "rd_mol.SetIntProp(\"NumChains\", mol_topology.getNumChains())\n",
    "rd_mol.SetDoubleProp(\"NetCharge\", netcharge)\n",
    "\n",
    "# Chains\n",
    "rd_mol.SetProp(\"chain_names\", str([c.index for c in mol_topology.chains()]))\n",
    "rd_mol.SetProp(\"_chain_resi\", str([[r.index for r in c.residues()] for c in mol_topology.chains()]))\n",
    "\n",
    "# Residues\n",
    "res_seq = \" \".join([r.name for r in mol_topology.residues()])\n",
    "rd_mol.SetProp(\"sequence\", res_seq)\n",
    "rd_mol.SetProp(\"_residue_atom_map\", str(dict(_residue_atom_map)))\n",
    "\n",
    "# Box dimensions\n",
    "pbcVs = list(map(list, mol_topology.getPeriodicBoxVectors()._value)) #unit: nm\n",
    "unitCellDim = list(map(float, mol_topology.getUnitCellDimensions()._value)) #unit: nm\n",
    "rd_mol.SetProp(\"PeriodicBoxVectors\", str(pbcVs))\n",
    "rd_mol.SetProp(\"UnitCellDimensions\", str(unitCellDim))\n",
    "\n",
    "\n",
    "rd_mol.UpdatePropertyCache(strict=True)"
   ]
  },
  {
   "cell_type": "code",
   "execution_count": null,
   "metadata": {},
   "outputs": [],
   "source": [
    "a.SetB"
   ]
  },
  {
   "cell_type": "code",
   "execution_count": null,
   "metadata": {},
   "outputs": [],
   "source": [
    "openmm_PDBFile.getTopology()"
   ]
  },
  {
   "cell_type": "code",
   "execution_count": null,
   "metadata": {},
   "outputs": [],
   "source": [
    "rd_mol"
   ]
  },
  {
   "cell_type": "code",
   "execution_count": null,
   "metadata": {},
   "outputs": [],
   "source": []
  },
  {
   "cell_type": "markdown",
   "metadata": {},
   "source": [
    "## Protein Component - Class"
   ]
  },
  {
   "cell_type": "markdown",
   "metadata": {},
   "source": [
    "### Class Implementation - from_pdb"
   ]
  },
  {
   "cell_type": "code",
   "execution_count": null,
   "metadata": {},
   "outputs": [],
   "source": [
    "import ast, json\n",
    "\n",
    "from rdkit import Chem\n",
    "from gufe.components.sub_files.pdbfile import PDBFile\n",
    "from gufe.components.sub_files.pdbstructure import PdbStructure\n",
    "\n",
    "from openmm.unit import nanometers, angstroms, is_quantity, norm, Quantity\n",
    "\n",
    "\n",
    "from gufe import ProteinComponent\n",
    "pdb_path= \"./thrombin_protein.pdb\"\n",
    "\n",
    "prot = ProteinComponent.from_pdbfile(pdb_path, name=\"thrombin\")\n",
    "prot"
   ]
  },
  {
   "cell_type": "code",
   "execution_count": null,
   "metadata": {},
   "outputs": [],
   "source": [
    "prot._rdkit"
   ]
  },
  {
   "cell_type": "code",
   "execution_count": null,
   "metadata": {},
   "outputs": [],
   "source": [
    "### WIP: to OpenMM/PDB"
   ]
  },
  {
   "cell_type": "code",
   "execution_count": null,
   "metadata": {},
   "outputs": [],
   "source": [
    "pdb_structure = PdbStructure()\n",
    "openmm_PDBFile = PDBFile(pdb_structure)\n",
    "\n",
    "periodic_box_vectors = ast.literal_eval(prot._rdkit.GetProp(\"PeriodicBoxVectors\"))\n",
    "openmm_PDBFile.topology.setPeriodicBoxVectors(None)\n",
    "\n"
   ]
  },
  {
   "cell_type": "markdown",
   "metadata": {},
   "source": [
    "## Test"
   ]
  },
  {
   "cell_type": "code",
   "execution_count": null,
   "metadata": {},
   "outputs": [],
   "source": [
    "#WIP"
   ]
  },
  {
   "cell_type": "markdown",
   "metadata": {},
   "source": [
    "## Class Implementation - dict from and to"
   ]
  },
  {
   "cell_type": "code",
   "execution_count": 1,
   "metadata": {},
   "outputs": [
    {
     "name": "stderr",
     "output_type": "stream",
     "text": [
      "/home/riesbenj/Code/OpenFE/gufe/gufe/components/sub_files/pdbstructure.py:488: UserWarning: WARNING: two consecutive residues with same number (ATOM   4449  N   CYS L   4      10.968  17.388  19.471  1.00 16.59      L    N  , ATOM   4448  HB2 ASP L   4      10.396  20.895  17.001  1.00 39.37      L    H  )\n",
      "  warnings.warn(\"WARNING: two consecutive residues with same number (%s, %s)\" % (atom, self._current_residue.atoms[-1]))\n"
     ]
    },
    {
     "data": {
      "text/plain": [
       "ProteinComponent(name=thrombin)"
      ]
     },
     "execution_count": 1,
     "metadata": {},
     "output_type": "execute_result"
    }
   ],
   "source": [
    "from gufe import ProteinComponent\n",
    "pdb_path= \"./thrombin_protein.pdb\"\n",
    "\n",
    "prot = ProteinComponent.from_pdbfile(pdb_path, name=\"thrombin\")\n",
    "prot"
   ]
  },
  {
   "cell_type": "code",
   "execution_count": 5,
   "metadata": {},
   "outputs": [],
   "source": [
    "dict_prot = prot.to_dict()\n",
    "sec_prot = prot.from_dict(dict_prot)\n",
    "dict_sec_prot = sec_prot.to_dict()"
   ]
  },
  {
   "cell_type": "code",
   "execution_count": 3,
   "metadata": {},
   "outputs": [
    {
     "data": {
      "text/plain": [
       "False"
      ]
     },
     "execution_count": 3,
     "metadata": {},
     "output_type": "execute_result"
    }
   ],
   "source": [
    "prot.to_rdkit() == sec_prot.to_rdkit()"
   ]
  },
  {
   "cell_type": "code",
   "execution_count": 4,
   "metadata": {},
   "outputs": [
    {
     "name": "stdout",
     "output_type": "stream",
     "text": [
      "atoms True\n",
      "bonds True\n",
      "name True\n",
      "conformers True\n",
      "molecules True\n"
     ]
    }
   ],
   "source": [
    "for key, value in dict_prot.items():\n",
    "    value2 = dict_sec_prot[key]\n",
    "    print(key, value== value2)\n",
    "    "
   ]
  },
  {
   "cell_type": "markdown",
   "metadata": {},
   "source": [
    "## Build a bond ordered xml"
   ]
  },
  {
   "cell_type": "code",
   "execution_count": null,
   "metadata": {},
   "outputs": [],
   "source": [
    "import xml.etree.ElementTree as etree\n",
    "\n",
    "out_path = \"../gufe/components/sub_files/data/residues.xml\"\n",
    "in_path = \"../gufe/components/sub_files/data/residues_orig.xml\"\n",
    "\n",
    "\n",
    "exception_bond_keys = {\n",
    "            # AminoAcids\n",
    "            ##Backbone\n",
    "            ('C', 'O'): { \"order\": 2, \"resns\": \"all\"},\n",
    "            \n",
    "            ## Carbonyls in R\n",
    "            (\"CZ\", \"NH2\"): { \"order\": 2, \"resns\": (\"ARG\")},\n",
    "            (\"CG\", \"OD1\"):{ \"order\": 2, \"resns\":  (\"ASP\", \"ASN\")},\n",
    "            (\"CD\", \"OE1\"):{ \"order\": 2, \"resns\": (\"GLN\", \"GLU\")},\n",
    "            (\"CD\", \"OE\"):{ \"order\": 2, \"resns\": (\"PCA\")},\n",
    "            \n",
    "            ## Aromatics:\n",
    "            (\"CD2\", \"CG\"):{ \"order\": 2, \"resns\": (\"HIS\")},\n",
    "            (\"CE1\", \"ND1\"):{ \"order\": 2, \"resns\": (\"HIS\")},\n",
    "            \n",
    "            (\"CG\", \"CD1\"):{ \"order\": 2, \"resns\": (\"PHE\", \"TYR\", \"TRP\")},\n",
    "            (\"CE1\", \"CZ\"):{ \"order\": 2, \"resns\": (\"PHE\", \"TYR\")},\n",
    "            (\"CE2\", \"CD2\"):{ \"order\": 2, \"resns\": (\"PHE\", \"TYR\")},\n",
    "            \n",
    "            (\"CD2\", \"CE3\"):{ \"order\": 2, \"resns\": (\"TRP\")},\n",
    "            (\"CE2\", \"CZ2\"):{ \"order\": 2, \"resns\": (\"TRP\")},\n",
    "            (\"CZ3\", \"CH2\"):{ \"order\": 2, \"resns\": (\"TRP\")},\n",
    "\n",
    "            # NucleicAcids\n",
    "            ## Phosphates\n",
    "            (\"OP1\", \"P\"):{ \"order\": 2, \"resns\": (\"U\", \"G\", \"A\", \"C\", \"DT\", \"DG\", \"DC\", \"DA\")},\n",
    "            \n",
    "            ## Pyrimidines: Uracil, Thymin and Cytosin\n",
    "            (\"C2\", \"O2\"):{ \"order\": 2, \"resns\": (\"U\", \"DT\", \"C\", \"DC\")},\n",
    "            (\"C5\", \"C6\"):{ \"order\": 2, \"resns\": (\"U\", \"DT\", \"C\", \"DC\")},\n",
    "            (\"C4\", \"O4\"):{ \"order\": 2, \"resns\": (\"U\", \"DT\")},\n",
    "            (\"C4\", \"N3\"):{ \"order\": 2, \"resns\": (\"C\", \"DC\")},\n",
    "\n",
    "            ## Purines: Guanine, Adenine\n",
    "            (\"C2\", \"N3\"):{ \"order\": 2, \"resns\": (\"G\", \"DG\", \"A\", \"DA\")},\n",
    "            (\"C4\", \"C5\"):{ \"order\": 2, \"resns\": (\"G\", \"DG\", \"A\", \"DA\")},\n",
    "            (\"N7\", \"C8\"):{ \"order\": 2, \"resns\": (\"G\", \"DG\", \"A\", \"DA\")},\n",
    "            (\"C6\", \"O6\"):{ \"order\": 2, \"resns\": (\"G\", \"DG\")},\n",
    "            (\"C6\", \"N1\"):{ \"order\": 2, \"resns\": (\"A\", \"DA\")},            \n",
    "             }\n",
    "#sort keys :\n",
    "exception_bond_keys = {tuple(sorted(list(key))): value for key, value in exception_bond_keys.items()}\n",
    "#print(exception_bond_keys)\n",
    "\n",
    "\n",
    "tree = etree.parse(in_path)\n",
    "\n",
    "for residue in tree.getroot().findall('Residue'):\n",
    "    resn = residue.get(\"name\")\n",
    "    for bond in residue.findall(\"Bond\"):\n",
    "        c1 = bond.get(\"from\")\n",
    "        c2 = bond.get(\"to\")\n",
    "        bond_atoms=tuple(sorted([c1, c2]))\n",
    "        if(bond_atoms in exception_bond_keys and (exception_bond_keys[bond_atoms][\"resns\"] == \"all\" or resn in exception_bond_keys[bond_atoms][\"resns\"])):\n",
    "            bond.set(\"order\", str(exception_bond_keys[bond_atoms][\"order\"]))\n",
    "        else:\n",
    "            bond.set(\"order\", str(1))\n",
    "        #if(resn == \"PHE\"): print(bond_atoms, bond.get(\"order\"))\n",
    "\n",
    "tree.write(out_path)"
   ]
  },
  {
   "cell_type": "code",
   "execution_count": null,
   "metadata": {},
   "outputs": [],
   "source": []
  }
 ],
 "metadata": {
  "interpreter": {
   "hash": "21fbee5a9ea735821292df23ad42d02bacb45339233a33145d240193711cc6b5"
  },
  "kernelspec": {
   "display_name": "Python 3.9.12 ('openfe')",
   "language": "python",
   "name": "python3"
  },
  "language_info": {
   "codemirror_mode": {
    "name": "ipython",
    "version": 3
   },
   "file_extension": ".py",
   "mimetype": "text/x-python",
   "name": "python",
   "nbconvert_exporter": "python",
   "pygments_lexer": "ipython3",
   "version": "3.9.13"
  },
  "orig_nbformat": 4
 },
 "nbformat": 4,
 "nbformat_minor": 2
}
